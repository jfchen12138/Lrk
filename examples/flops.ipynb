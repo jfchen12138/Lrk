{
 "cells": [
  {
   "cell_type": "code",
   "execution_count": 1,
   "id": "32953b40",
   "metadata": {},
   "outputs": [],
   "source": [
    "import math"
   ]
  },
  {
   "cell_type": "code",
   "execution_count": 2,
   "id": "bc4ec6ea",
   "metadata": {},
   "outputs": [],
   "source": [
    "def fourier_flops(bsz, n, d, head, d_1):\n",
    "    d_k = d/head\n",
    "    flops1 = bsz * 6 * n * d*d\n",
    "    flops2 = 18* bsz * n * d\n",
    "    flops3 = bsz* head * n * n * (2 * (d_k+d_1) -1) + bsz * head * n * n\n",
    "    flops4 = bsz* head *n * (2*n -1) * (d_k +d_1)\n",
    "    flops5 = bsz * n * 2 * d * (d_k + d_1)\n",
    "    return flops1+flops2+flops3+flops4+flops5"
   ]
  },
  {
   "cell_type": "code",
   "execution_count": 3,
   "id": "8e112ad3",
   "metadata": {},
   "outputs": [],
   "source": [
    "def galerkin_flops(bsz, n, d, head, d_1):\n",
    "    d_k = d/head\n",
    "    flops1 = bsz * 6 * n *d*d\n",
    "    flops2 = bsz * 18 * n * d\n",
    "    flops3 = bsz* head * (d_k+d_1)**2 * (2*n-1) + bsz*head*(d_1+d_k)**2\n",
    "    flops4 = bsz * head *  n * (d_k + d_1) * (2*(d_k+d_1)-1)\n",
    "    flops5 = bsz*n*2*d*(d_k + d_1)\n",
    "    return flops1+flops2+flops3+flops4+flops5"
   ]
  },
  {
   "cell_type": "code",
   "execution_count": 4,
   "id": "e9da9de1",
   "metadata": {},
   "outputs": [],
   "source": [
    "def Lrk_flops(bsz, n, d, head, d_1, k):\n",
    "    d_k = d/head\n",
    "    flops1 = (2*n -1)*k*(d_1+d_k)*bsz*head\n",
    "    flops2 = bsz*head*k*(d_1+d_k)\n",
    "    flops3 = (2*k-1)*n*(d_1+d_k)*bsz*head\n",
    "    flops4 = 2*bsz*n*d*(d_1+d_k)\n",
    "    return flops1+flops2+flops3+flops4"
   ]
  },
  {
   "cell_type": "markdown",
   "id": "7f05db1c",
   "metadata": {},
   "source": [
    "###  Example 1: Burgers' equation"
   ]
  },
  {
   "cell_type": "code",
   "execution_count": 5,
   "id": "8800768c",
   "metadata": {},
   "outputs": [],
   "source": [
    "bsz = 8\n",
    "n = 4096\n",
    "d = 288\n",
    "head = 4\n",
    "d_1 = 1"
   ]
  },
  {
   "cell_type": "code",
   "execution_count": 6,
   "id": "6e505b5f",
   "metadata": {},
   "outputs": [
    {
     "name": "stdout",
     "output_type": "stream",
     "text": [
      " fourier: 174.612 GFLOPs\n",
      "\n",
      "\n",
      " galerkin: 20.640 GFLOPs\n",
      "\n",
      "\n",
      "Lrk 1: 1.407 GFLOPs\n",
      "\n",
      "\n"
     ]
    }
   ],
   "source": [
    "flops = fourier_flops(bsz, n, d, head, d_1)/math.pow(10, 9)\n",
    "print(\" fourier: %.3f GFLOPs\"%flops)\n",
    "print(\"\\n\")\n",
    "\n",
    "flops = galerkin_flops(bsz, n, d, head, d_1)/ math.pow(10, 9)\n",
    "print(\" galerkin: %.3f GFLOPs\"%flops)\n",
    "print(\"\\n\")\n",
    "\n",
    "# k=100\n",
    "k = 1\n",
    "flops = Lrk_flops(bsz, n, d, head, d_1, k)/math.pow(10, 9)\n",
    "print(\"Lrk %d: %.3f GFLOPs\"%(k,flops))\n",
    "print(\"\\n\")    \n",
    "    "
   ]
  },
  {
   "cell_type": "markdown",
   "id": "dd0ae445",
   "metadata": {},
   "source": [
    "### Example 2: Darcy flow"
   ]
  },
  {
   "cell_type": "code",
   "execution_count": 7,
   "id": "de4bd2d1",
   "metadata": {},
   "outputs": [],
   "source": [
    "bsz = 2\n",
    "n = 5041\n",
    "d = 256\n",
    "head = 8\n",
    "d_1 = 2"
   ]
  },
  {
   "cell_type": "code",
   "execution_count": 8,
   "id": "3e1cde00",
   "metadata": {},
   "outputs": [
    {
     "name": "stdout",
     "output_type": "stream",
     "text": [
      "fourier: 59.479 GFLOPs\n",
      "\n",
      "\n",
      "galerkin: 4.557 GFLOPs\n",
      "\n",
      "\n",
      "Lrk 10: 0.282 GFLOPs\n",
      "\n",
      "\n"
     ]
    }
   ],
   "source": [
    "flops = fourier_flops(bsz, n, d, head, d_1)/math.pow(10, 9)\n",
    "print(\"fourier: %.3f GFLOPs\"%flops)\n",
    "print(\"\\n\")\n",
    "\n",
    "flops = galerkin_flops(bsz, n, d, head, d_1)/ math.pow(10, 9)\n",
    "print(\"galerkin: %.3f GFLOPs\"%flops)\n",
    "print(\"\\n\")\n",
    "\n",
    "# k=7\n",
    "k=10\n",
    "flops = Lrk_flops(bsz, n, d, head, d_1, k)/math.pow(10, 9)\n",
    "print(\"Lrk %d: %.3f GFLOPs\"%(k,flops))\n",
    "print(\"\\n\")    "
   ]
  },
  {
   "cell_type": "markdown",
   "id": "e1885a36",
   "metadata": {},
   "source": [
    "### Example 3:Darcy inv"
   ]
  },
  {
   "cell_type": "code",
   "execution_count": 9,
   "id": "6901f900",
   "metadata": {},
   "outputs": [],
   "source": [
    "bsz = 2\n",
    "n = 5041\n",
    "d = 320\n",
    "head = 4\n",
    "d_1 = 2"
   ]
  },
  {
   "cell_type": "code",
   "execution_count": 10,
   "id": "664b5230",
   "metadata": {},
   "outputs": [
    {
     "name": "stdout",
     "output_type": "stream",
     "text": [
      "fourier: 73.459 GFLOPs\n",
      "\n",
      "\n",
      "galerkin: 7.863 GFLOPs\n",
      "\n",
      "\n",
      "Lrk 5: 0.592 GFLOPs\n",
      "\n",
      "\n"
     ]
    }
   ],
   "source": [
    "flops = fourier_flops(bsz, n, d, head, d_1)/math.pow(10, 9)\n",
    "print(\"fourier: %.3f GFLOPs\"%flops)\n",
    "print(\"\\n\")\n",
    "\n",
    "flops = galerkin_flops(bsz, n, d, head, d_1)/ math.pow(10, 9)\n",
    "print(\"galerkin: %.3f GFLOPs\"%flops)\n",
    "print(\"\\n\")\n",
    "\n",
    "k=5\n",
    "# k=100\n",
    "flops = Lrk_flops(bsz, n, d, head, d_1, k)/math.pow(10, 9)\n",
    "print(\"Lrk %d: %.3f GFLOPs\"%(k,flops))\n",
    "print(\"\\n\")    \n",
    "    \n"
   ]
  },
  {
   "cell_type": "markdown",
   "id": "a84f0114",
   "metadata": {},
   "source": [
    "### Example 4 : Navier stokes equation"
   ]
  },
  {
   "cell_type": "code",
   "execution_count": 11,
   "id": "9d913511",
   "metadata": {},
   "outputs": [],
   "source": [
    "bsz = 2\n",
    "n = 4096\n",
    "d = 196\n",
    "head = 4\n",
    "d_1 = 2"
   ]
  },
  {
   "cell_type": "code",
   "execution_count": 12,
   "id": "dad863e5",
   "metadata": {},
   "outputs": [
    {
     "name": "stdout",
     "output_type": "stream",
     "text": [
      "fourier: 29.460 GFLOPs\n",
      "\n",
      "\n",
      "galerkin: 2.420 GFLOPs\n",
      "\n",
      "\n",
      "Lrk 100: 0.831 GFLOPs\n",
      "\n",
      "\n"
     ]
    }
   ],
   "source": [
    "flops = fourier_flops(bsz, n, d, head, d_1)/math.pow(10, 9)\n",
    "print(\"fourier: %.3f GFLOPs\"%flops)\n",
    "print(\"\\n\")\n",
    "\n",
    "flops = galerkin_flops(bsz, n, d, head, d_1)/ math.pow(10, 9)\n",
    "print(\"galerkin: %.3f GFLOPs\"%flops)\n",
    "print(\"\\n\")\n",
    "\n",
    "# k=9\n",
    "k=100\n",
    "flops = Lrk_flops(bsz, n, d, head, d_1, k)/math.pow(10, 9)\n",
    "print(\"Lrk %d: %.3f GFLOPs\"%(k,flops))\n",
    "print(\"\\n\")    \n",
    "    "
   ]
  },
  {
   "cell_type": "code",
   "execution_count": null,
   "id": "6bba21c5",
   "metadata": {},
   "outputs": [],
   "source": []
  }
 ],
 "metadata": {
  "kernelspec": {
   "display_name": "Python 3 (ipykernel)",
   "language": "python",
   "name": "python3"
  },
  "language_info": {
   "codemirror_mode": {
    "name": "ipython",
    "version": 3
   },
   "file_extension": ".py",
   "mimetype": "text/x-python",
   "name": "python",
   "nbconvert_exporter": "python",
   "pygments_lexer": "ipython3",
   "version": "3.8.18"
  }
 },
 "nbformat": 4,
 "nbformat_minor": 5
}
