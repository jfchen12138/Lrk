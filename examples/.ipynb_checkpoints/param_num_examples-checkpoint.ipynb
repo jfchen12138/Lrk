{
 "cells": [
  {
   "cell_type": "code",
   "execution_count": 1,
   "id": "0d557bcb",
   "metadata": {},
   "outputs": [],
   "source": [
    "import math"
   ]
  },
  {
   "cell_type": "code",
   "execution_count": 2,
   "id": "3d6d7bd2",
   "metadata": {},
   "outputs": [],
   "source": [
    "def original_params(a, d, head, d_1):\n",
    "    num = 4*a*d*d + 4*a*d + a*d*head*d_1\n",
    "    return num"
   ]
  },
  {
   "cell_type": "code",
   "execution_count": 3,
   "id": "5799a0cc",
   "metadata": {},
   "outputs": [],
   "source": [
    "def lrk_params( n, k):\n",
    "    num = 2*n*k+k\n",
    "    return num"
   ]
  },
  {
   "cell_type": "markdown",
   "id": "16b1eb20",
   "metadata": {},
   "source": [
    "### Example 1: Burgers' equation"
   ]
  },
  {
   "cell_type": "code",
   "execution_count": 4,
   "id": "576af6f7",
   "metadata": {},
   "outputs": [],
   "source": [
    "n = 4096\n",
    "d = 288\n",
    "head = 4\n",
    "d_1 = 1\n",
    "a = 4"
   ]
  },
  {
   "cell_type": "code",
   "execution_count": 5,
   "id": "f9d16659",
   "metadata": {},
   "outputs": [
    {
     "name": "stdout",
     "output_type": "stream",
     "text": [
      "ori:  1336320\n",
      "\n",
      "\n",
      "lrk 100: 819300\n",
      "\n",
      "\n"
     ]
    }
   ],
   "source": [
    "num = original_params(a, d, head, d_1)\n",
    "print(\"ori: \", num)\n",
    "print(\"\\n\")\n",
    "\n",
    "\n",
    "k=1\n",
    "# k=100\n",
    "num = lrk_params(n, k)\n",
    "print(\"lrk %d: %d\"%(k, num))\n",
    "print(\"\\n\")\n"
   ]
  },
  {
   "cell_type": "markdown",
   "id": "ee2915a0",
   "metadata": {},
   "source": [
    "### Example 2: Darcy flow "
   ]
  },
  {
   "cell_type": "code",
   "execution_count": 4,
   "id": "185b1b14",
   "metadata": {},
   "outputs": [],
   "source": [
    "n = 5041\n",
    "d = 256\n",
    "head = 8\n",
    "d_1 = 2\n",
    "a = 6"
   ]
  },
  {
   "cell_type": "code",
   "execution_count": 5,
   "id": "c64a6cfb",
   "metadata": {},
   "outputs": [
    {
     "name": "stdout",
     "output_type": "stream",
     "text": [
      "ori:  1603584\n",
      "\n",
      "\n",
      "lrk 10: 100830\n",
      "\n",
      "\n"
     ]
    }
   ],
   "source": [
    "num = original_params(a, d, head, d_1)\n",
    "print(\"ori: \", num)\n",
    "print(\"\\n\")\n",
    "\n",
    "\n",
    "# k=7\n",
    "k=10\n",
    "num = lrk_params(n, k)\n",
    "print(\"lrk %d: %d\"%(k, num))\n",
    "print(\"\\n\")\n"
   ]
  },
  {
   "cell_type": "markdown",
   "id": "4724ae48",
   "metadata": {},
   "source": [
    "### Example 3: Darcy inv"
   ]
  },
  {
   "cell_type": "code",
   "execution_count": 8,
   "id": "b105fb8f",
   "metadata": {},
   "outputs": [],
   "source": [
    "n = 5041\n",
    "d = 320\n",
    "head = 4\n",
    "d_1 = 2\n",
    "a = 6"
   ]
  },
  {
   "cell_type": "code",
   "execution_count": 9,
   "id": "1a34b41d",
   "metadata": {},
   "outputs": [
    {
     "name": "stdout",
     "output_type": "stream",
     "text": [
      "ori:  2480640\n",
      "\n",
      "\n",
      "lrk 100: 1008300\n",
      "\n",
      "\n"
     ]
    }
   ],
   "source": [
    "num = original_params(a, d, head, d_1)\n",
    "print(\"ori: \", num)\n",
    "print(\"\\n\")\n",
    "\n",
    "\n",
    "k=5\n",
    "# k=100\n",
    "num = lrk_params(n, k)\n",
    "print(\"lrk %d: %d\"%(k, num))\n",
    "print(\"\\n\")"
   ]
  },
  {
   "cell_type": "markdown",
   "id": "820dee1f",
   "metadata": {},
   "source": [
    "### Example 4 : Navier stokes equation"
   ]
  },
  {
   "cell_type": "code",
   "execution_count": 10,
   "id": "b894cda1",
   "metadata": {},
   "outputs": [],
   "source": [
    "n = 4096\n",
    "d = 196\n",
    "head = 4\n",
    "d_1 = 2\n",
    "a =4"
   ]
  },
  {
   "cell_type": "code",
   "execution_count": 11,
   "id": "2781b6be",
   "metadata": {},
   "outputs": [
    {
     "name": "stdout",
     "output_type": "stream",
     "text": [
      "ori:  624064\n",
      "\n",
      "\n",
      "lrk 100: 819300\n",
      "\n",
      "\n",
      "lrk 9: 73737\n",
      "\n",
      "\n"
     ]
    }
   ],
   "source": [
    "num = original_params(a, d, head, d_1)\n",
    "print(\"ori: \", num)\n",
    "print(\"\\n\")\n",
    "\n",
    "\n",
    "k=100\n",
    "num = lrk_params(n, k)\n",
    "print(\"lrk %d: %d\"%(k, num))\n",
    "print(\"\\n\")\n",
    "\n",
    "k=9\n",
    "num = lrk_params(n, k)\n",
    "print(\"lrk %d: %d\"%(k, num))\n",
    "print(\"\\n\")"
   ]
  },
  {
   "cell_type": "code",
   "execution_count": null,
   "id": "de683834",
   "metadata": {},
   "outputs": [],
   "source": []
  }
 ],
 "metadata": {
  "kernelspec": {
   "display_name": "Python 3 (ipykernel)",
   "language": "python",
   "name": "python3"
  },
  "language_info": {
   "codemirror_mode": {
    "name": "ipython",
    "version": 3
   },
   "file_extension": ".py",
   "mimetype": "text/x-python",
   "name": "python",
   "nbconvert_exporter": "python",
   "pygments_lexer": "ipython3",
   "version": "3.8.18"
  }
 },
 "nbformat": 4,
 "nbformat_minor": 5
}
