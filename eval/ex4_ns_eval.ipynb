{
 "cells": [
  {
   "cell_type": "code",
   "execution_count": 1,
   "id": "8975eb57",
   "metadata": {},
   "outputs": [
    {
     "name": "stdout",
     "output_type": "stream",
     "text": [
      "Package not found.\n",
      "Please install Plotly for showing mesh and solutions.\n"
     ]
    }
   ],
   "source": [
    "import sys\n",
    "sys.path.append(\"../\")\n",
    "from libs import *\n",
    "from libs.ns_lite import *\n",
    "device = torch.device('cuda:3' if torch.cuda.is_available() else 'cpu')"
   ]
  },
  {
   "cell_type": "markdown",
   "id": "f456607e",
   "metadata": {},
   "source": [
    "# Lrk"
   ]
  },
  {
   "cell_type": "code",
   "execution_count": 2,
   "id": "cac103e5",
   "metadata": {},
   "outputs": [
    {
     "name": "stdout",
     "output_type": "stream",
     "text": [
      "\u001b[94mLoading ns_V1e-3_N5000_T50.mat: start at 1701395373.42;\u001b[0m\n",
      "\u001b[92mLOCAL RAM USAGE AT START: 0.34 GB\u001b[0m\n",
      "\u001b[94mLoading ns_V1e-3_N5000_T50.mat: done at 1701395400.59 (27.162105 secs elapsed);\u001b[0m\n",
      "\u001b[92mLOCAL RAM USAGE AT END: 4.46GB (+4.12GB)\u001b[0m\n",
      "\n",
      "\n"
     ]
    }
   ],
   "source": [
    "data_path = os.path.join(DATA_PATH, 'ns_V1e-3_N5000_T50.mat')\n",
    "valid_dataset = NavierStokesDatasetLite(data_path=data_path,\n",
    "                                        train_data=False,)"
   ]
  },
  {
   "cell_type": "code",
   "execution_count": 3,
   "id": "9dce9111",
   "metadata": {},
   "outputs": [],
   "source": [
    "batch_size = 4\n",
    "valid_loader = DataLoader(valid_dataset,\n",
    "                          batch_size=batch_size,\n",
    "                          shuffle=False,\n",
    "                          drop_last=False,\n",
    "                          pin_memory=True)"
   ]
  },
  {
   "cell_type": "code",
   "execution_count": 4,
   "id": "8acfe2b1",
   "metadata": {},
   "outputs": [
    {
     "name": "stdout",
     "output_type": "stream",
     "text": [
      "\n",
      "Best model's validation metric in this run: {'metric': 0.0022691892199218273}\n"
     ]
    }
   ],
   "source": [
    "n_grid = 64\n",
    "h = 1/n_grid\n",
    "metric_func = WeightedL2Loss2d(regularizer=False, h=h)\n",
    "model = torch.load(os.path.join(MODEL_PATH, 'ns_64_4ft_196d_ln_2023-11-30.pt'))\n",
    "model.eval()\n",
    "val_metric = validate_epoch_ns(model, metric_func, valid_loader, device)\n",
    "print(f\"\\nBest model's validation metric in this run: {val_metric}\")"
   ]
  },
  {
   "cell_type": "markdown",
   "id": "3066a1a4",
   "metadata": {},
   "source": [
    "# Galerkin"
   ]
  },
  {
   "cell_type": "code",
   "execution_count": 5,
   "id": "0b3f2551",
   "metadata": {},
   "outputs": [],
   "source": [
    "# data_path = os.path.join(DATA_PATH, 'ns_V1e-3_N5000_T50.mat')\n",
    "# valid_dataset = NavierStokesDatasetLite(data_path=data_path,\n",
    "#                                         train_data=False,)\n",
    "# batch_size = 4\n",
    "\n",
    "# valid_loader = DataLoader(valid_dataset,\n",
    "#                           batch_size=batch_size,\n",
    "#                           shuffle=False,\n",
    "#                           drop_last=False,\n",
    "#                           pin_memory=True)\n"
   ]
  },
  {
   "cell_type": "code",
   "execution_count": 6,
   "id": "77ee57d6",
   "metadata": {},
   "outputs": [
    {
     "name": "stdout",
     "output_type": "stream",
     "text": [
      "\n",
      "Best model's validation metric in this run: {'metric': 0.002456130681559443}\n"
     ]
    }
   ],
   "source": [
    "n_grid = 64\n",
    "h = 1/n_grid\n",
    "metric_func = WeightedL2Loss2d(regularizer=False, h=h)\n",
    "model = torch.load(os.path.join(MODEL_PATH, 'ns_64_4gt_196d_ln_2023-11-30.pt'))\n",
    "model.eval()\n",
    "val_metric = validate_epoch_ns(model, metric_func, valid_loader, device)\n",
    "print(f\"\\nBest model's validation metric in this run: {val_metric}\")"
   ]
  },
  {
   "cell_type": "markdown",
   "id": "d797c7b7",
   "metadata": {},
   "source": [
    "# Lrk"
   ]
  },
  {
   "cell_type": "code",
   "execution_count": 7,
   "id": "26f71d74",
   "metadata": {},
   "outputs": [],
   "source": [
    "# data_path = os.path.join(DATA_PATH, 'ns_V1e-3_N5000_T50.mat')\n",
    "# valid_dataset = NavierStokesDatasetLite(data_path=data_path,\n",
    "#                                         train_data=False,)\n",
    "# batch_size = 4\n",
    "\n",
    "# valid_loader = DataLoader(valid_dataset,\n",
    "#                           batch_size=batch_size,\n",
    "#                           shuffle=False,\n",
    "#                           drop_last=False,\n",
    "#                           pin_memory=True)\n"
   ]
  },
  {
   "cell_type": "code",
   "execution_count": 9,
   "id": "8de59e15",
   "metadata": {},
   "outputs": [
    {
     "name": "stdout",
     "output_type": "stream",
     "text": [
      "8\n",
      "\n",
      "Best model's validation metric in this run: {'metric': 0.002729421145748347}\n"
     ]
    }
   ],
   "source": [
    "n_grid = 64\n",
    "h = 1/n_grid\n",
    "metric_func = WeightedL2Loss2d(regularizer=False, h=h)\n",
    "model = torch.load(os.path.join(MODEL_PATH, 'ns_64_4Lt_196d_ln_2023-11-30.pt'))\n",
    "model.to(device)\n",
    "print(len(model.v))\n",
    "model.eval()\n",
    "val_metric = validate_epoch_ns(model, metric_func, valid_loader, device)\n",
    "print(f\"\\nBest model's validation metric in this run: {val_metric}\")"
   ]
  },
  {
   "cell_type": "code",
   "execution_count": null,
   "id": "d0621df4",
   "metadata": {},
   "outputs": [],
   "source": []
  }
 ],
 "metadata": {
  "kernelspec": {
   "display_name": "Python 3 (ipykernel)",
   "language": "python",
   "name": "python3"
  },
  "language_info": {
   "codemirror_mode": {
    "name": "ipython",
    "version": 3
   },
   "file_extension": ".py",
   "mimetype": "text/x-python",
   "name": "python",
   "nbconvert_exporter": "python",
   "pygments_lexer": "ipython3",
   "version": "3.8.18"
  }
 },
 "nbformat": 4,
 "nbformat_minor": 5
}
