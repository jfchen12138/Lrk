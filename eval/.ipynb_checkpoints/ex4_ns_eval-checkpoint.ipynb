{
 "cells": [
  {
   "cell_type": "code",
   "execution_count": 1,
   "id": "8975eb57",
   "metadata": {},
   "outputs": [
    {
     "name": "stdout",
     "output_type": "stream",
     "text": [
      "Package not found.\n",
      "Please install Plotly for showing mesh and solutions.\n"
     ]
    }
   ],
   "source": [
    "import sys\n",
    "sys.path.append(\"../\")\n",
    "from libs import *\n",
    "from libs.ns_lite import *\n",
    "device = torch.device('cuda:0' if torch.cuda.is_available() else 'cpu')"
   ]
  },
  {
   "cell_type": "markdown",
   "id": "f456607e",
   "metadata": {},
   "source": [
    "# Lrk"
   ]
  },
  {
   "cell_type": "code",
   "execution_count": 2,
   "id": "cac103e5",
   "metadata": {},
   "outputs": [
    {
     "name": "stdout",
     "output_type": "stream",
     "text": [
      "\u001b[94mLoading ns_V1e-3_N5000_T50.mat: start at 1700216198.69;\u001b[0m\n",
      "\u001b[92mLOCAL RAM USAGE AT START: 0.34 GB\u001b[0m\n",
      "\u001b[94mLoading ns_V1e-3_N5000_T50.mat: done at 1700216225.46 (26.764303 secs elapsed);\u001b[0m\n",
      "\u001b[92mLOCAL RAM USAGE AT END: 4.64GB (+4.30GB)\u001b[0m\n",
      "\n",
      "\n"
     ]
    }
   ],
   "source": [
    "data_path = os.path.join(DATA_PATH, 'ns_V1e-3_N5000_T50.mat')\n",
    "valid_dataset = NavierStokesDatasetLite(data_path=data_path,\n",
    "                                        train_data=False,)"
   ]
  },
  {
   "cell_type": "code",
   "execution_count": 3,
   "id": "9dce9111",
   "metadata": {},
   "outputs": [],
   "source": [
    "batch_size = 4\n",
    "valid_loader = DataLoader(valid_dataset,\n",
    "                          batch_size=batch_size,\n",
    "                          shuffle=False,\n",
    "                          drop_last=False,\n",
    "                          pin_memory=True)"
   ]
  },
  {
   "cell_type": "code",
   "execution_count": 4,
   "id": "8acfe2b1",
   "metadata": {},
   "outputs": [
    {
     "name": "stdout",
     "output_type": "stream",
     "text": [
      "\n",
      "Best model's validation metric in this run: {'metric': 0.0028448905677068976}\n"
     ]
    }
   ],
   "source": [
    "n_grid = 64\n",
    "h = 1/n_grid\n",
    "metric_func = WeightedL2Loss2d(regularizer=False, h=h)\n",
    "model = torch.load(os.path.join(MODEL_PATH, 'ns_64_4Lt_144d_ln_2023-11-17.pt'))\n",
    "model.eval()\n",
    "val_metric = validate_epoch_ns(model, metric_func, valid_loader, device)\n",
    "print(f\"\\nBest model's validation metric in this run: {val_metric}\")"
   ]
  },
  {
   "cell_type": "markdown",
   "id": "3066a1a4",
   "metadata": {},
   "source": [
    "# Galerkin"
   ]
  },
  {
   "cell_type": "code",
   "execution_count": 5,
   "id": "0b3f2551",
   "metadata": {},
   "outputs": [
    {
     "name": "stdout",
     "output_type": "stream",
     "text": [
      "\u001b[94mLoading ns_V1e-3_N5000_T50.mat: start at 1700216229.30;\u001b[0m\n",
      "\u001b[92mLOCAL RAM USAGE AT START: 6.25 GB\u001b[0m\n",
      "\u001b[94mLoading ns_V1e-3_N5000_T50.mat: done at 1700216255.49 (26.191877 secs elapsed);\u001b[0m\n",
      "\u001b[92mLOCAL RAM USAGE AT END: 10.54GB (+4.29GB)\u001b[0m\n",
      "\n",
      "\n"
     ]
    }
   ],
   "source": [
    "data_path = os.path.join(DATA_PATH, 'ns_V1e-3_N5000_T50.mat')\n",
    "valid_dataset = NavierStokesDatasetLite(data_path=data_path,\n",
    "                                        train_data=False,)\n",
    "batch_size = 4\n",
    "\n",
    "valid_loader = DataLoader(valid_dataset,\n",
    "                          batch_size=batch_size,\n",
    "                          shuffle=False,\n",
    "                          drop_last=False,\n",
    "                          pin_memory=True)\n"
   ]
  },
  {
   "cell_type": "code",
   "execution_count": 6,
   "id": "77ee57d6",
   "metadata": {},
   "outputs": [
    {
     "name": "stdout",
     "output_type": "stream",
     "text": [
      "\n",
      "Best model's validation metric in this run: {'metric': 0.0032166255048941823}\n"
     ]
    }
   ],
   "source": [
    "n_grid = 64\n",
    "h = 1/n_grid\n",
    "metric_func = WeightedL2Loss2d(regularizer=False, h=h)\n",
    "model = torch.load(os.path.join(MODEL_PATH, 'ns_64_4gt_144d_ln_2023-11-16.pt'))\n",
    "model.eval()\n",
    "val_metric = validate_epoch_ns(model, metric_func, valid_loader, device)\n",
    "print(f\"\\nBest model's validation metric in this run: {val_metric}\")"
   ]
  },
  {
   "cell_type": "code",
   "execution_count": null,
   "id": "e71492b5",
   "metadata": {},
   "outputs": [],
   "source": []
  }
 ],
 "metadata": {
  "kernelspec": {
   "display_name": "Python 3 (ipykernel)",
   "language": "python",
   "name": "python3"
  },
  "language_info": {
   "codemirror_mode": {
    "name": "ipython",
    "version": 3
   },
   "file_extension": ".py",
   "mimetype": "text/x-python",
   "name": "python",
   "nbconvert_exporter": "python",
   "pygments_lexer": "ipython3",
   "version": "3.8.16"
  }
 },
 "nbformat": 4,
 "nbformat_minor": 5
}
