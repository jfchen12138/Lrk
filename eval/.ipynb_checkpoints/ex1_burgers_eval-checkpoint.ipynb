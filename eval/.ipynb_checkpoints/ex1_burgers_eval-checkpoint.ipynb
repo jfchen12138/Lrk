{
 "cells": [
  {
   "cell_type": "markdown",
   "metadata": {},
   "source": [
    "# Evaluation script for Example 1: Burgers' equation"
   ]
  },
  {
   "cell_type": "code",
   "execution_count": 1,
   "metadata": {},
   "outputs": [
    {
     "ename": "ModuleNotFoundError",
     "evalue": "No module named 'psutil'",
     "output_type": "error",
     "traceback": [
      "\u001b[0;31m---------------------------------------------------------------------------\u001b[0m",
      "\u001b[0;31mModuleNotFoundError\u001b[0m                       Traceback (most recent call last)",
      "\u001b[0;32m<ipython-input-1-5572b9c72963>\u001b[0m in \u001b[0;36m<module>\u001b[0;34m\u001b[0m\n\u001b[1;32m      1\u001b[0m \u001b[0;32mimport\u001b[0m \u001b[0msys\u001b[0m\u001b[0;34m\u001b[0m\u001b[0;34m\u001b[0m\u001b[0m\n\u001b[1;32m      2\u001b[0m \u001b[0msys\u001b[0m\u001b[0;34m.\u001b[0m\u001b[0mpath\u001b[0m\u001b[0;34m.\u001b[0m\u001b[0mappend\u001b[0m\u001b[0;34m(\u001b[0m\u001b[0;34m\"../\"\u001b[0m\u001b[0;34m)\u001b[0m\u001b[0;34m\u001b[0m\u001b[0;34m\u001b[0m\u001b[0m\n\u001b[0;32m----> 3\u001b[0;31m \u001b[0;32mfrom\u001b[0m \u001b[0mlibs\u001b[0m \u001b[0;32mimport\u001b[0m \u001b[0;34m*\u001b[0m\u001b[0;34m\u001b[0m\u001b[0;34m\u001b[0m\u001b[0m\n\u001b[0m\u001b[1;32m      4\u001b[0m \u001b[0mdevice\u001b[0m \u001b[0;34m=\u001b[0m \u001b[0mtorch\u001b[0m\u001b[0;34m.\u001b[0m\u001b[0mdevice\u001b[0m\u001b[0;34m(\u001b[0m\u001b[0;34m'cuda'\u001b[0m \u001b[0;32mif\u001b[0m \u001b[0mtorch\u001b[0m\u001b[0;34m.\u001b[0m\u001b[0mcuda\u001b[0m\u001b[0;34m.\u001b[0m\u001b[0mis_available\u001b[0m\u001b[0;34m(\u001b[0m\u001b[0;34m)\u001b[0m \u001b[0;32melse\u001b[0m \u001b[0;34m'cpu'\u001b[0m\u001b[0;34m)\u001b[0m\u001b[0;34m\u001b[0m\u001b[0;34m\u001b[0m\u001b[0m\n",
      "\u001b[0;32m~/galerkin-transformer-main/libs/__init__.py\u001b[0m in \u001b[0;36m<module>\u001b[0;34m\u001b[0m\n\u001b[0;32m----> 1\u001b[0;31m \u001b[0;32mfrom\u001b[0m \u001b[0;34m.\u001b[0m\u001b[0mutils\u001b[0m \u001b[0;32mimport\u001b[0m \u001b[0;34m*\u001b[0m\u001b[0;34m\u001b[0m\u001b[0;34m\u001b[0m\u001b[0m\n\u001b[0m\u001b[1;32m      2\u001b[0m \u001b[0;32mfrom\u001b[0m \u001b[0;34m.\u001b[0m\u001b[0mutils_ft\u001b[0m \u001b[0;32mimport\u001b[0m \u001b[0;34m*\u001b[0m\u001b[0;34m\u001b[0m\u001b[0;34m\u001b[0m\u001b[0m\n\u001b[1;32m      3\u001b[0m \u001b[0;32mfrom\u001b[0m \u001b[0;34m.\u001b[0m\u001b[0mft\u001b[0m \u001b[0;32mimport\u001b[0m \u001b[0;34m*\u001b[0m\u001b[0;34m\u001b[0m\u001b[0;34m\u001b[0m\u001b[0m\n\u001b[1;32m      4\u001b[0m \u001b[0;32mfrom\u001b[0m \u001b[0;34m.\u001b[0m\u001b[0mlayers\u001b[0m \u001b[0;32mimport\u001b[0m \u001b[0;34m*\u001b[0m\u001b[0;34m\u001b[0m\u001b[0;34m\u001b[0m\u001b[0m\n\u001b[1;32m      5\u001b[0m \u001b[0;32mfrom\u001b[0m \u001b[0;34m.\u001b[0m\u001b[0mmodel\u001b[0m \u001b[0;32mimport\u001b[0m \u001b[0;34m*\u001b[0m\u001b[0;34m\u001b[0m\u001b[0;34m\u001b[0m\u001b[0m\n",
      "\u001b[0;32m~/galerkin-transformer-main/libs/utils.py\u001b[0m in \u001b[0;36m<module>\u001b[0;34m\u001b[0m\n\u001b[1;32m     14\u001b[0m \u001b[0;32mimport\u001b[0m \u001b[0mmatplotlib\u001b[0m\u001b[0;34m.\u001b[0m\u001b[0mpyplot\u001b[0m \u001b[0;32mas\u001b[0m \u001b[0mplt\u001b[0m\u001b[0;34m\u001b[0m\u001b[0;34m\u001b[0m\u001b[0m\n\u001b[1;32m     15\u001b[0m \u001b[0;32mimport\u001b[0m \u001b[0mnumpy\u001b[0m \u001b[0;32mas\u001b[0m \u001b[0mnp\u001b[0m\u001b[0;34m\u001b[0m\u001b[0;34m\u001b[0m\u001b[0m\n\u001b[0;32m---> 16\u001b[0;31m \u001b[0;32mimport\u001b[0m \u001b[0mpsutil\u001b[0m\u001b[0;34m,\u001b[0m \u001b[0mplatform\u001b[0m\u001b[0;34m,\u001b[0m \u001b[0msubprocess\u001b[0m\u001b[0;34m,\u001b[0m \u001b[0mre\u001b[0m\u001b[0;34m\u001b[0m\u001b[0;34m\u001b[0m\u001b[0m\n\u001b[0m\u001b[1;32m     17\u001b[0m \u001b[0;32mimport\u001b[0m \u001b[0mtorch\u001b[0m\u001b[0;34m\u001b[0m\u001b[0;34m\u001b[0m\u001b[0m\n\u001b[1;32m     18\u001b[0m \u001b[0;34m\u001b[0m\u001b[0m\n",
      "\u001b[0;31mModuleNotFoundError\u001b[0m: No module named 'psutil'"
     ]
    }
   ],
   "source": [
    "import sys\n",
    "sys.path.append(\"../\")\n",
    "from libs import *\n",
    "device = torch.device('cuda' if torch.cuda.is_available() else 'cpu')"
   ]
  },
  {
   "cell_type": "markdown",
   "metadata": {},
   "source": [
    "## Loading evaluation data\n",
    "First we evaluate the Fourier Transformer for $n=2048$ case (`seq_len = 2048`)."
   ]
  },
  {
   "cell_type": "code",
   "execution_count": null,
   "metadata": {},
   "outputs": [],
   "source": [
    "subsample = 4\n",
    "val_batch_size = 4\n",
    "data_path = os.path.join(DATA_PATH, 'burgers_data_R10.mat')\n",
    "valid_dataset = BurgersDataset(subsample=subsample,\n",
    "                                train_data=False,\n",
    "                                valid_portion=100,\n",
    "                                data_path=data_path,)\n",
    "valid_loader = DataLoader(valid_dataset, batch_size=val_batch_size, shuffle=False,\n",
    "                              drop_last=False, pin_memory=True)"
   ]
  },
  {
   "cell_type": "markdown",
   "metadata": {},
   "source": [
    "## Loading models"
   ]
  },
  {
   "cell_type": "code",
   "execution_count": null,
   "metadata": {},
   "outputs": [],
   "source": [
    "with open(os.path.join(SRC_ROOT, 'config.yml')) as f:\n",
    "    config = yaml.full_load(f)['ex1_burgers']\n",
    "torch.cuda.empty_cache()\n",
    "model = FourierTransformer(**config)\n",
    "model = model.to(device)"
   ]
  },
  {
   "cell_type": "markdown",
   "metadata": {},
   "source": [
    "# Evaluate the model\n",
    "The error is approximately: \n",
    "$$\\frac{1}{N}\\sum_{i=1}^N \\|T_{\\theta}(u_0) - u(\\cdot, t_1)\\|_{L^2(\\Omega)}$$"
   ]
  },
  {
   "cell_type": "code",
   "execution_count": null,
   "metadata": {},
   "outputs": [],
   "source": [
    "h = (1/2**13)*subsample\n",
    "metric_func = WeightedL2Loss(regularizer=False, h=h)\n",
    "model.load_state_dict(torch.load(os.path.join(MODEL_PATH, 'burgers_2048_4ft_96d_qkv_2021-05-26.pt')))\n",
    "model.eval()\n",
    "val_metric = validate_epoch_burgers(model, metric_func, valid_loader, device)\n",
    "print(f\"\\nModel's validation metric: {list(val_metric.values())[0]:.3e}\")"
   ]
  },
  {
   "cell_type": "markdown",
   "metadata": {},
   "source": [
    "# Let us plot several solutions!"
   ]
  },
  {
   "cell_type": "code",
   "execution_count": null,
   "metadata": {},
   "outputs": [],
   "source": [
    "for _ in range(3):\n",
    "    sample = next(iter(valid_loader))\n",
    "    node = sample['node']\n",
    "    pos = sample['pos']\n",
    "    grid = sample['grid']\n",
    "    u = sample['target']\n",
    "\n",
    "    with torch.no_grad():\n",
    "        model.eval()\n",
    "        out_dict = model(node.to(device), \n",
    "                        None, pos.to(device), grid.to(device))\n",
    "\n",
    "    out = out_dict['preds']\n",
    "    preds = out[..., 0].detach().cpu()\n",
    "\n",
    "    _, axes = plt.subplots(nrows=val_batch_size, ncols=1, figsize=(20, 5*val_batch_size))\n",
    "    axes = axes.reshape(-1)\n",
    "    for i in range(val_batch_size):\n",
    "        grid = pos[i, :, 0]\n",
    "        axes[i].plot(grid, node[i, :, 0], '-', color='b', linewidth=1.5, label='u_0')\n",
    "        axes[i].plot(grid, u[i, :, 0], color='g', linewidth=3, label='u(x,t_1)')\n",
    "        axes[i].plot(grid, preds[i, :], '--', color='r', linewidth=2, label='u_preds(x)')\n",
    "        axes[i].legend(fontsize=20)\n",
    "    plt.show()"
   ]
  },
  {
   "cell_type": "markdown",
   "metadata": {},
   "source": [
    "# How about the Galerkin Transformer?\n",
    "\n",
    "This time we do not do subsample: $n=8192$ (`seq_len = 8192`)"
   ]
  },
  {
   "cell_type": "code",
   "execution_count": null,
   "metadata": {},
   "outputs": [],
   "source": [
    "subsample = 1\n",
    "val_batch_size = 4\n",
    "data_path = os.path.join(DATA_PATH, 'burgers_data_R10.mat')\n",
    "valid_dataset = BurgersDataset(subsample=subsample,\n",
    "                                train_data=False,\n",
    "                                valid_portion=100,\n",
    "                                data_path=data_path,)\n",
    "valid_loader = DataLoader(valid_dataset, batch_size=val_batch_size, shuffle=False,\n",
    "                              drop_last=False, pin_memory=True)"
   ]
  },
  {
   "cell_type": "markdown",
   "metadata": {},
   "source": [
    "# Loading the model and compute the error on the validation set"
   ]
  },
  {
   "cell_type": "code",
   "execution_count": null,
   "metadata": {},
   "outputs": [],
   "source": [
    "with open(os.path.join(SRC_ROOT, 'config.yml')) as f:\n",
    "    config = yaml.full_load(f)['ex1_burgers']\n",
    "config['attention_type'] = 'galerkin'\n",
    "torch.cuda.empty_cache()\n",
    "model = FourierTransformer(**config)\n",
    "model = model.to(device)\n",
    "\n",
    "h = (1/2**13)*subsample\n",
    "metric_func = WeightedL2Loss(regularizer=False, h=h)\n",
    "model.load_state_dict(torch.load(os.path.join(MODEL_PATH, 'burgers_8192_4gt_96d_qkv_2021-05-22_paper.pt')))\n",
    "model.eval()\n",
    "val_metric = validate_epoch_burgers(model, metric_func, valid_loader, device)\n",
    "print(f\"\\nModel's validation metric: {list(val_metric.values())[0]:.3e}\")"
   ]
  },
  {
   "cell_type": "markdown",
   "metadata": {},
   "source": [
    "# Let us plot some solutions!\n",
    "Unfortunately the error is too small for human eyes to tell the difference with above..."
   ]
  },
  {
   "cell_type": "code",
   "execution_count": null,
   "metadata": {},
   "outputs": [],
   "source": [
    "for _ in range(3):\n",
    "    sample = next(iter(valid_loader))\n",
    "    node = sample['node']\n",
    "    pos = sample['pos']\n",
    "    grid = sample['grid']\n",
    "    u = sample['target']\n",
    "\n",
    "    with torch.no_grad():\n",
    "        model.eval()\n",
    "        out_dict = model(node.to(device), \n",
    "                        None, pos.to(device), grid.to(device))\n",
    "\n",
    "    out = out_dict['preds']\n",
    "    preds = out[..., 0].detach().cpu()\n",
    "\n",
    "    _, axes = plt.subplots(nrows=val_batch_size, ncols=1, figsize=(20, 5*val_batch_size))\n",
    "    axes = axes.reshape(-1)\n",
    "    for i in range(val_batch_size):\n",
    "        grid = pos[i, :, 0]\n",
    "        axes[i].plot(grid, node[i, :, 0], '-', color='b', linewidth=1.5, label='u_0')\n",
    "        axes[i].plot(grid, u[i, :, 0], color='g', linewidth=3, label='u(x,t_1)')\n",
    "        axes[i].plot(grid, preds[i, :], '--', color='r', linewidth=2, label='u_preds(x)')\n",
    "        axes[i].legend(fontsize=20)\n",
    "    plt.show()"
   ]
  },
  {
   "cell_type": "code",
   "execution_count": null,
   "metadata": {},
   "outputs": [],
   "source": []
  }
 ],
 "metadata": {
  "interpreter": {
   "hash": "95502389cfcf018ee4ea9f0d83bae034c520ccac7d682848f1b351d0b7f2112c"
  },
  "kernelspec": {
   "display_name": "Python 3",
   "language": "python",
   "name": "python3"
  },
  "language_info": {
   "codemirror_mode": {
    "name": "ipython",
    "version": 3
   },
   "file_extension": ".py",
   "mimetype": "text/x-python",
   "name": "python",
   "nbconvert_exporter": "python",
   "pygments_lexer": "ipython3",
   "version": "3.6.9"
  },
  "metadata": {
   "interpreter": {
    "hash": "95502389cfcf018ee4ea9f0d83bae034c520ccac7d682848f1b351d0b7f2112c"
   }
  }
 },
 "nbformat": 4,
 "nbformat_minor": 2
}
